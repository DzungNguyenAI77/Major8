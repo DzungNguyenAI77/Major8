{
 "cells": [
  {
   "cell_type": "code",
   "execution_count": null,
   "metadata": {},
   "outputs": [],
   "source": [
    "import numpy as np\n",
    "import pandas as pd\n",
    "from sklearn.metrics import confusion_matrix, precision_score\n",
    "from sklearn.linear_model import LogisticRegression, LinearRegression\n",
    "from sklearn import svm\n",
    "from sklearn.preprocessing import StandardScaler, MinMaxScaler\n",
    "from sklearn.ensemble import RandomForestClassifier, RandomForestRegressor\n",
    "from sklearn.neural_network import MLPClassifier, MLPRegressor\n",
    "import joblib\n",
    "\n",
    "np.set_printoptions(precision=4)"
   ]
  },
  {
   "cell_type": "code",
   "execution_count": null,
   "metadata": {},
   "outputs": [],
   "source": [
    "data = pd.read_csv('final_df.csv')"
   ]
  },
  {
   "cell_type": "code",
   "execution_count": null,
   "metadata": {},
   "outputs": [],
   "source": [
    "df = data.copy()\n",
    "\n",
    "train = df[df.season<2023]\n",
    "X_train = train.drop(['driver', 'podium'], axis = 1)\n",
    "y_train = train.podium\n",
    "\n",
    "scaler = StandardScaler()\n",
    "X_train = pd.DataFrame(scaler.fit_transform(X_train), columns = X_train.columns)"
   ]
  },
  {
   "cell_type": "code",
   "execution_count": null,
   "metadata": {},
   "outputs": [
    {
     "name": "stdout",
     "output_type": "stream",
     "text": [
      "Predicted results for Circuit 22 in 2023:\n",
      "             driver    results  podium\n",
      "0    max_verstappen   3.365365       1\n",
      "1           leclerc   3.644557       2\n",
      "2             perez   4.388833       4\n",
      "3           russell   4.926000       3\n",
      "4            norris   6.105546       5\n",
      "5          hamilton   6.615695       9\n",
      "6           piastri   7.182066       6\n",
      "7            alonso   7.435966       7\n",
      "8             sainz   8.523422      18\n",
      "9           tsunoda  10.876460       8\n",
      "10            gasly  10.952102      13\n",
      "11           stroll  11.691363      10\n",
      "12             ocon  11.879811      12\n",
      "13        ricciardo  12.099676      11\n",
      "14       hulkenberg  12.852573      15\n",
      "15            albon  13.764871      14\n",
      "16           bottas  14.914381      19\n",
      "17  kevin_magnussen  15.135083      20\n",
      "18             zhou  16.490173      17\n"
     ]
    }
   ],
   "source": [
    "# For Regression\n",
    "\n",
    "\n",
    "model_path = 'C:/ChuyenNganh_8/DSP_F1/f1-predictor/best_svm_model_gamma_0.004641588833612777_C_2.154434690031882_kernel_rbf.pkl'\n",
    "model = joblib.load(model_path)\n",
    "\n",
    "# Specify the circuit (round) you want to predict\n",
    "circuit = 22\n",
    "test = df[(df.season == 2023) & (df['round'] == circuit)]\n",
    "\n",
    "X_test = test.drop(['driver', 'podium'], axis=1)\n",
    "y_test = test.podium\n",
    "drivers = test['driver'].reset_index(drop=True)  # Store driver names\n",
    "\n",
    "X_test = pd.DataFrame(scaler.transform(X_test), columns=X_test.columns)\n",
    "\n",
    "prediction_df = pd.DataFrame(model.predict(X_test), columns=['results'])\n",
    "prediction_df['driver'] = drivers  # Include driver names\n",
    "prediction_df['podium'] = y_test.reset_index(drop=True)  # Actual podium values\n",
    "\n",
    "prediction_df.sort_values('results', ascending=True, inplace=True)\n",
    "prediction_df.reset_index(drop=True, inplace=True)\n",
    "\n",
    "print(f\"Predicted results for Circuit {circuit} in 2023:\")\n",
    "print(prediction_df[['driver', 'results', 'podium']])\n"
   ]
  },
  {
   "cell_type": "code",
   "execution_count": 34,
   "metadata": {},
   "outputs": [
    {
     "name": "stdout",
     "output_type": "stream",
     "text": [
      "Predicted probability for Circuit 22 in 2023:\n",
      "             driver  Probability  podium\n",
      "0    max_verstappen     0.795223       1\n",
      "1           leclerc     0.067574       2\n",
      "2            norris     0.017945       5\n",
      "3           russell     0.017884       3\n",
      "4             perez     0.014479       4\n",
      "5           piastri     0.010068       6\n",
      "6            alonso     0.008451       7\n",
      "7           tsunoda     0.005586       8\n",
      "8          hamilton     0.004410       9\n",
      "9        hulkenberg     0.002973      15\n",
      "10            gasly     0.002598      13\n",
      "11            sainz     0.002495      18\n",
      "12        ricciardo     0.002495      11\n",
      "13           stroll     0.002468      10\n",
      "14             ocon     0.002252      12\n",
      "15            albon     0.002055      14\n",
      "16  kevin_magnussen     0.001876      20\n",
      "17           bottas     0.001771      19\n",
      "18             zhou     0.001719      17\n"
     ]
    },
    {
     "name": "stderr",
     "output_type": "stream",
     "text": [
      "c:\\Users\\Admin\\anaconda3\\Lib\\site-packages\\sklearn\\base.py:318: UserWarning: Trying to unpickle estimator LabelBinarizer from version 1.4.2 when using version 1.2.2. This might lead to breaking code or invalid results. Use at your own risk. For more info please refer to:\n",
      "https://scikit-learn.org/stable/model_persistence.html#security-maintainability-limitations\n",
      "  warnings.warn(\n",
      "c:\\Users\\Admin\\anaconda3\\Lib\\site-packages\\sklearn\\base.py:318: UserWarning: Trying to unpickle estimator MLPClassifier from version 1.4.2 when using version 1.2.2. This might lead to breaking code or invalid results. Use at your own risk. For more info please refer to:\n",
      "https://scikit-learn.org/stable/model_persistence.html#security-maintainability-limitations\n",
      "  warnings.warn(\n"
     ]
    }
   ],
   "source": [
    "# For Classification \n",
    "\n",
    "\n",
    "import joblib\n",
    "import pandas as pd\n",
    "\n",
    "# Load the model and scaler\n",
    "model_path = 'C:/ChuyenNganh_8/DSP_F1/f1-predictor/nn_classifier_weight.pkl'\n",
    "model = joblib.load(model_path)\n",
    "\n",
    "# Specify the circuit (round) you want to predict\n",
    "circuit = 22\n",
    "test = df[(df.season == 2023) & (df['round'] == circuit)]\n",
    "\n",
    "X_test = test.drop(['driver', 'podium'], axis=1)\n",
    "y_test = test.podium\n",
    "drivers = test['driver'].reset_index(drop=True)  # Store driver names\n",
    "\n",
    "X_test = pd.DataFrame(scaler.transform(X_test), columns=X_test.columns)\n",
    "\n",
    "# Predict probabilities for each class (assuming binary classification)\n",
    "prediction_probs = model.predict_proba(X_test)\n",
    "prediction_scores = prediction_probs[:, 1]  # Adjust based on target class or classification structure\n",
    "\n",
    "# Prepare prediction DataFrame\n",
    "prediction_df = pd.DataFrame(prediction_scores, columns=['Probability'])\n",
    "prediction_df['driver'] = drivers  # Include driver names\n",
    "prediction_df['podium'] = y_test.reset_index(drop=True)  # Actual podium values\n",
    "\n",
    "# Sort by scores\n",
    "prediction_df.sort_values('Probability', ascending=False, inplace=True)  # Higher scores might indicate higher likelihood\n",
    "prediction_df.reset_index(drop=True, inplace=True)\n",
    "\n",
    "print(f\"Predicted probability for Circuit {circuit} in 2023:\")\n",
    "print(prediction_df[['driver', 'Probability', 'podium']])\n"
   ]
  }
 ],
 "metadata": {
  "kernelspec": {
   "display_name": "base",
   "language": "python",
   "name": "python3"
  },
  "language_info": {
   "codemirror_mode": {
    "name": "ipython",
    "version": 3
   },
   "file_extension": ".py",
   "mimetype": "text/x-python",
   "name": "python",
   "nbconvert_exporter": "python",
   "pygments_lexer": "ipython3",
   "version": "3.11.7"
  }
 },
 "nbformat": 4,
 "nbformat_minor": 2
}
